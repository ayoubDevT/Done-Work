{
 "cells": [
  {
   "cell_type": "raw",
   "id": "52bd8265",
   "metadata": {},
   "source": [
    "Ex01"
   ]
  },
  {
   "cell_type": "code",
   "execution_count": 16,
   "id": "391edd69",
   "metadata": {},
   "outputs": [
    {
     "name": "stdout",
     "output_type": "stream",
     "text": [
      "Saisir un entier:2\n",
      "3\n"
     ]
    }
   ],
   "source": [
    "N = int(input(\"Saisir un entier:\"))\n",
    "a=0\n",
    "for i in range(0,N+1):\n",
    "    a+=i\n",
    "print(a)"
   ]
  },
  {
   "cell_type": "raw",
   "id": "19f0a0e7",
   "metadata": {},
   "source": [
    "Ex02"
   ]
  },
  {
   "cell_type": "code",
   "execution_count": 5,
   "id": "f6f06bce",
   "metadata": {},
   "outputs": [
    {
     "name": "stdout",
     "output_type": "stream",
     "text": [
      "Saisir le premier un entier:2\n",
      "Saisir le deuxieme un entier:4\n",
      "9\n"
     ]
    }
   ],
   "source": [
    "N = int(input(\"Saisir le premier un entier:\"))\n",
    "M = int(input(\"Saisir le deuxieme un entier:\"))\n",
    "a=0\n",
    "for i in range(N,M+1):\n",
    "    a+=i\n",
    "print(a)"
   ]
  },
  {
   "cell_type": "raw",
   "id": "d4be3559",
   "metadata": {},
   "source": [
    "Ex03"
   ]
  },
  {
   "cell_type": "code",
   "execution_count": 7,
   "id": "6f766223",
   "metadata": {},
   "outputs": [
    {
     "name": "stdout",
     "output_type": "stream",
     "text": [
      "Saisir un entier:4\n",
      "24\n"
     ]
    }
   ],
   "source": [
    "N = int(input(\"Saisir un entier:\"))\n",
    "a=1\n",
    "for i in range(1,N+1):\n",
    "    a*=i\n",
    "print(a)"
   ]
  },
  {
   "cell_type": "raw",
   "id": "ea79b753",
   "metadata": {},
   "source": [
    "Ex04"
   ]
  },
  {
   "cell_type": "code",
   "execution_count": 12,
   "id": "746d3f11",
   "metadata": {},
   "outputs": [
    {
     "name": "stdout",
     "output_type": "stream",
     "text": [
      "Saisir le premier un entier:2\n",
      "Saisir le deuxieme un entier:5\n",
      "8\n"
     ]
    }
   ],
   "source": [
    "N = int(input(\"Saisir le premier un entier:\"))\n",
    "M = int(input(\"Saisir le deuxieme un entier:\"))\n",
    "a=0\n",
    "for i in range(N,M+1):\n",
    "    if i%2!=0:\n",
    "        a+=i\n",
    "print(a)"
   ]
  },
  {
   "cell_type": "raw",
   "id": "12f98e65",
   "metadata": {},
   "source": [
    "Ex05"
   ]
  },
  {
   "cell_type": "code",
   "execution_count": 14,
   "id": "c6acfa01",
   "metadata": {},
   "outputs": [
    {
     "name": "stdout",
     "output_type": "stream",
     "text": [
      "Saisir un entier:3\n",
      "14\n"
     ]
    }
   ],
   "source": [
    "N = int(input(\"Saisir un entier:\"))\n",
    "a=0\n",
    "for i in range(1,N+1):\n",
    "    a+=i**2\n",
    "print(a)"
   ]
  },
  {
   "cell_type": "raw",
   "id": "22f32c3d",
   "metadata": {},
   "source": [
    "Ex06"
   ]
  },
  {
   "cell_type": "code",
   "execution_count": 15,
   "id": "e0f71f86",
   "metadata": {},
   "outputs": [
    {
     "name": "stdout",
     "output_type": "stream",
     "text": [
      "Saisir un entier:2\n",
      "4\n"
     ]
    }
   ],
   "source": [
    "N = int(input(\"Saisir un entier:\"))\n",
    "a=0\n",
    "for i in range(1,N+1):\n",
    "    a+=((-1)**i)*(i**2+i)\n",
    "print(a)"
   ]
  }
 ],
 "metadata": {
  "kernelspec": {
   "display_name": "Python 3 (ipykernel)",
   "language": "python",
   "name": "python3"
  },
  "language_info": {
   "codemirror_mode": {
    "name": "ipython",
    "version": 3
   },
   "file_extension": ".py",
   "mimetype": "text/x-python",
   "name": "python",
   "nbconvert_exporter": "python",
   "pygments_lexer": "ipython3",
   "version": "3.9.7"
  }
 },
 "nbformat": 4,
 "nbformat_minor": 5
}
