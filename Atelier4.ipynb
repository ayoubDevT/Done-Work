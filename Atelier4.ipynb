{
 "cells": [
  {
   "cell_type": "markdown",
   "metadata": {},
   "source": [
    "# Ex01"
   ]
  },
  {
   "cell_type": "code",
   "execution_count": null,
   "metadata": {},
   "outputs": [],
   "source": [
    "#affiche les entiers de 0 a 3\n",
    "for i in range(0,4):\n",
    "    print(i)\n",
    "#affiche les entiers de 4 a 7\n",
    "for i in range(4,8):\n",
    "    print(i)\n",
    "#affiche les entiers de 2 a 8 par 2 pas\n",
    "for i in range(2,9,2):\n",
    "    print(i) \n"
   ]
  },
  {
   "cell_type": "markdown",
   "metadata": {},
   "source": [
    "# Ex02"
   ]
  },
  {
   "cell_type": "code",
   "execution_count": 13,
   "metadata": {},
   "outputs": [
    {
     "name": "stdout",
     "output_type": "stream",
     "text": [
      "[-3, -2, -1, 0, 1, 2, 3, 4, 5, 6, 7, 8, 9, 10, 11, 12, 13, 14, 15] , [0, 2, 4, 6, 8, 10, 12, 14, 16, 18, 20] , [1, 3, 5, 7, 9, 11, 13, 15, 17, 19]\n"
     ]
    }
   ],
   "source": [
    "tab1 = []\n",
    "tab2 = []\n",
    "tab3 = []\n",
    "for i in range(-3,16):\n",
    "    tab1.append(i)\n",
    "for i in range(0,21):\n",
    "    if i%2==0:\n",
    "        tab2.append(i)\n",
    "for i in range(0,21):\n",
    "    if i%2!=0:\n",
    "        tab3.append(i)\n",
    "print(tab1,\",\", tab2,\",\",tab3)"
   ]
  },
  {
   "cell_type": "markdown",
   "metadata": {},
   "source": [
    "# Ex03"
   ]
  },
  {
   "cell_type": "code",
   "execution_count": 37,
   "metadata": {},
   "outputs": [
    {
     "name": "stdout",
     "output_type": "stream",
     "text": [
      "[10, 12, 17, 25, 38, 45, 50, 72, 80]\n",
      "[10, 12, 17, 25, 38, 45, 50, 72, 80, 12]\n",
      "[10, 12, 17, 25, 12, 38, 45, 50, 72, 80, 12]\n",
      "[12, 10, 12, 17, 25, 12, 38, 45, 50, 72, 80, 12]\n",
      "[12, 80, 72, 50, 45, 38, 12, 25, 17, 12, 10, 12]\n",
      "[12, 80, 72, 50, 45, 12, 25, 17, 12, 10, 12]\n",
      "[80, 72, 50, 45]\n",
      "[80, 72, 50, 45, 12, 25, 17, 12, 10, 12]\n",
      "[12, 80, 72]\n",
      "yes\n"
     ]
    }
   ],
   "source": [
    "liste=[17,38,10,25,72,50,80,12,45]\n",
    "#trie\n",
    "liste.sort()\n",
    "print(liste)\n",
    "#ajout de 12\n",
    "liste.append(12)\n",
    "print(liste)\n",
    "#ajout de 12 au milieu\n",
    "liste[4:4]=[12]\n",
    "print(liste)\n",
    "#ajout de 12 au debut\n",
    "liste.insert(0,12)\n",
    "print(liste)\n",
    "#reverse de la liste\n",
    "liste.reverse()\n",
    "print(liste)\n",
    "#remove 30\n",
    "liste.remove(38)\n",
    "print(liste)\n",
    "#sous-liste a partir de 2eme au 5eme element\n",
    "print(liste[1:5])\n",
    "#sous-liste a partir de 2eme au dernier element\n",
    "print(liste[1:len(liste)])\n",
    "#sous-liste a partir de debut au 3eme element\n",
    "print(liste[0:3])\n",
    "#verifier l appartenance de 25 dans liste\n",
    "#methode 1\n",
    "\"\"\"for i in liste:\n",
    "    if i==25:\n",
    "        print(\"25 est dans la liste\")\"\"\"\n",
    "#methode 2\n",
    "if 25 in liste:\n",
    "    print(\"25 est dans la liste\")\n",
    "else:\n",
    "    print(\"25 n'est pas dans la liste\")"
   ]
  },
  {
   "cell_type": "markdown",
   "metadata": {},
   "source": [
    "# Ex04"
   ]
  },
  {
   "cell_type": "code",
   "execution_count": 39,
   "metadata": {},
   "outputs": [
    {
     "name": "stdout",
     "output_type": "stream",
     "text": [
      "['ad', 'ae', 'bd', 'be', 'cd', 'ce']\n"
     ]
    }
   ],
   "source": [
    "ch1=\"abc\"\n",
    "ch2=\"de\"\n",
    "liste=[]\n",
    "for i in ch1:\n",
    "    for j in ch2:\n",
    "        liste.append(i+j)\n",
    "print(liste)"
   ]
  },
  {
   "cell_type": "markdown",
   "metadata": {},
   "source": [
    "# Ex05"
   ]
  },
  {
   "cell_type": "code",
   "execution_count": 46,
   "metadata": {},
   "outputs": [
    {
     "name": "stdout",
     "output_type": "stream",
     "text": [
      "{'a', 'd', 'c', 'b'} {'s', 'd', 'b'}\n",
      "c est dans X\n",
      "a n est pas dans Y\n",
      "{'a', 'c'}\n",
      "{'s'}\n",
      "{'b', 's', 'a', 'c', 'd'}\n",
      "{'b', 'd'}\n"
     ]
    }
   ],
   "source": [
    "X=set(\"abcd\")\n",
    "Y=set(\"sbd\")\n",
    "#affichage des enssemble\n",
    "print(X,Y)\n",
    "#appartenence de c a X\n",
    "if 'c' in X:\n",
    "    print(\"c est dans X\")\n",
    "else:\n",
    "    print(\"c n est pas dans X\")\n",
    "#appartenence de c a X\n",
    "if 'a' in Y:\n",
    "    print(\"a est dans Y\")\n",
    "else:\n",
    "    print(\"a n est pas dans Y\")\n",
    "#X-Y\n",
    "print(X-Y)\n",
    "#Y-X\n",
    "print(Y-X)\n",
    "#X U Y\n",
    "print(X|Y)\n",
    "#X&Y\n",
    "print(X&Y)"
   ]
  }
 ],
 "metadata": {
  "interpreter": {
   "hash": "906e710bec4c4b6c46610d8221b76b8985d27245d57f6f2979c9031645cb3b4b"
  },
  "kernelspec": {
   "display_name": "Python 3.9.7 64-bit ('base': conda)",
   "language": "python",
   "name": "python3"
  },
  "language_info": {
   "codemirror_mode": {
    "name": "ipython",
    "version": 3
   },
   "file_extension": ".py",
   "mimetype": "text/x-python",
   "name": "python",
   "nbconvert_exporter": "python",
   "pygments_lexer": "ipython3",
   "version": "3.9.7"
  },
  "orig_nbformat": 4
 },
 "nbformat": 4,
 "nbformat_minor": 2
}
