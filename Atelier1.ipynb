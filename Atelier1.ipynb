{
 "cells": [
  {
   "cell_type": "raw",
   "id": "b933ab08-4a62-4dbf-92e9-ceb41f2fc145",
   "metadata": {},
   "source": [
    "Ex01"
   ]
  },
  {
   "cell_type": "code",
   "execution_count": 2,
   "id": "f892d60e-3738-4ad7-9480-0e0fc799ee42",
   "metadata": {},
   "outputs": [
    {
     "name": "stdout",
     "output_type": "stream",
     "text": [
      "la vitesse est 45.64\n"
     ]
    }
   ],
   "source": [
    "T=2.75\n",
    "D=125.5\n",
    "V=D/T\n",
    "\n",
    "print(\"la vitesse est {0:.2f}\".format(V))"
   ]
  },
  {
   "cell_type": "raw",
   "id": "bb44eef8-e595-4add-be82-95d27da1eae1",
   "metadata": {},
   "source": [
    "Ex02"
   ]
  },
  {
   "cell_type": "code",
   "execution_count": 3,
   "id": "d9090b3c-f134-4241-8f6c-155ef18f1109",
   "metadata": {},
   "outputs": [
    {
     "name": "stdout",
     "output_type": "stream",
     "text": [
      "Saisir A:1\n",
      "Saisir B:2\n",
      "A c'est  2  et B c'est  1\n"
     ]
    }
   ],
   "source": [
    "a = int(input('Saisir A:'))\n",
    "b = int(input('Saisir B:'))\n",
    "c = a\n",
    "a = b\n",
    "b = c\n",
    "print(\"A c'est \", a,\" et B c'est \", b)"
   ]
  },
  {
   "cell_type": "raw",
   "id": "5d34ecce-09c6-4b44-b610-8444bbffdb99",
   "metadata": {},
   "source": [
    "Ex03"
   ]
  },
  {
   "cell_type": "code",
   "execution_count": 4,
   "id": "05b90905-09b7-4fe0-ae73-da479a1cbe6a",
   "metadata": {},
   "outputs": [
    {
     "name": "stdout",
     "output_type": "stream",
     "text": [
      "La moyenne est : 14.33\n"
     ]
    }
   ],
   "source": [
    "N1=15\n",
    "C1=3\n",
    "N2=12\n",
    "C2=4\n",
    "N3=18\n",
    "C3=2\n",
    "\n",
    "M=(N1*C1 + N2*C2 + N3*C3)/(C1+C2+C3)\n",
    "\n",
    "print(\"La moyenne est : {0:.2f}\".format(M))"
   ]
  },
  {
   "cell_type": "code",
   "execution_count": null,
   "id": "043172ce-3510-44cf-ab2a-173baf9b00b4",
   "metadata": {},
   "outputs": [],
   "source": []
  }
 ],
 "metadata": {
  "kernelspec": {
   "display_name": "Python 3 (ipykernel)",
   "language": "python",
   "name": "python3"
  },
  "language_info": {
   "codemirror_mode": {
    "name": "ipython",
    "version": 3
   },
   "file_extension": ".py",
   "mimetype": "text/x-python",
   "name": "python",
   "nbconvert_exporter": "python",
   "pygments_lexer": "ipython3",
   "version": "3.9.7"
  }
 },
 "nbformat": 4,
 "nbformat_minor": 5
}
