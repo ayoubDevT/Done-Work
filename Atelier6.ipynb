{
 "cells": [
  {
   "cell_type": "markdown",
   "metadata": {},
   "source": [
    "# Ex01"
   ]
  },
  {
   "cell_type": "code",
   "execution_count": 2,
   "metadata": {},
   "outputs": [
    {
     "name": "stdout",
     "output_type": "stream",
     "text": [
      "9\n",
      "17\n",
      "38\n",
      "10\n",
      "25\n",
      "72\n",
      "50\n",
      "80\n",
      "12\n",
      "45\n"
     ]
    }
   ],
   "source": [
    "liste=[17,38,10,25,72,50,80,12,45]\n",
    "\n",
    "#nombre des element\n",
    "print(len(liste))\n",
    "\n",
    "#affichage\n",
    "for i in liste:\n",
    "    print(i)"
   ]
  },
  {
   "cell_type": "markdown",
   "metadata": {},
   "source": [
    "# Ex02"
   ]
  },
  {
   "cell_type": "code",
   "execution_count": 3,
   "metadata": {},
   "outputs": [
    {
     "name": "stdout",
     "output_type": "stream",
     "text": [
      "h\n",
      "e\n",
      "l\n",
      "l\n",
      "o\n",
      " \n",
      "w\n",
      "o\n",
      "r\n",
      "l\n",
      "d\n",
      "11\n",
      "2\n"
     ]
    }
   ],
   "source": [
    "ch=\"hello world\"\n",
    "\n",
    "#affichage\n",
    "for i in ch:\n",
    "    print(i)\n",
    "\n",
    "#nombre des caractere\n",
    "print(len(ch))\n",
    "\n",
    "#nombre des mots\n",
    "liste=ch.split()\n",
    "print(len(liste))\n"
   ]
  },
  {
   "cell_type": "markdown",
   "metadata": {},
   "source": [
    "# Ex03"
   ]
  },
  {
   "cell_type": "code",
   "execution_count": 16,
   "metadata": {},
   "outputs": [
    {
     "name": "stdout",
     "output_type": "stream",
     "text": [
      "bonjour tout le monde !\n",
      "A bientôt\n"
     ]
    }
   ],
   "source": [
    "#creer et ecrire dans un fichier\n",
    "file=open(\"fich1.txt\",\"w\")\n",
    "file.write(\"bonjour tout le monde !\\n\")\n",
    "\n",
    "#ajouter au fichier \n",
    "file.writelines(\"A bientôt\")\n",
    "file.close()\n",
    "\n",
    "#lire et affichier\n",
    "file1=open(\"fich1.txt\",\"r\")\n",
    "read=file1.read()\n",
    "print(read)\n",
    "\n",
    "#lire ligne par ligne\n",
    "lignes=file1.readlines()\n",
    "for i in lignes:\n",
    "    print(i)\n",
    "file1.close()\n"
   ]
  },
  {
   "cell_type": "markdown",
   "metadata": {},
   "source": [
    "# Ex04"
   ]
  },
  {
   "cell_type": "code",
   "execution_count": 17,
   "metadata": {},
   "outputs": [],
   "source": [
    "file=open(\"fich1.txt\",\"r\")\n",
    "read=file.read()\n",
    "\n",
    "file1=open(\"fich2.txt\",\"w\")\n",
    "file1.writelines(read)\n",
    "\n",
    "file.close()\n",
    "file1.close()"
   ]
  },
  {
   "cell_type": "markdown",
   "metadata": {},
   "source": [
    "# Ex06"
   ]
  },
  {
   "cell_type": "code",
   "execution_count": 7,
   "metadata": {},
   "outputs": [
    {
     "data": {
      "text/plain": [
       "'\\nimport csv\\n\\nfile = open(\"movies.csv\", \"r\")\\ndic = csv.DictReader(file)\\n\\nNom=[]\\nfor i in dic:\\n    Nom.append(i[\\'title\\'])\\n\\nfor i in Nom:\\n    print(i)\\n'"
      ]
     },
     "execution_count": 7,
     "metadata": {},
     "output_type": "execute_result"
    }
   ],
   "source": [
    "\"\"\"\n",
    "import csv\n",
    "\n",
    "file = open(\"movies.csv\", \"r\")\n",
    "dic = csv.DictReader(file)\n",
    "\n",
    "Nom=[]\n",
    "for i in dic:\n",
    "    Nom.append(i['title'])\n",
    "\n",
    "for i in Nom:\n",
    "    print(i)\n",
    "\"\"\"\n"
   ]
  },
  {
   "cell_type": "markdown",
   "metadata": {},
   "source": [
    "# Ex07"
   ]
  },
  {
   "cell_type": "code",
   "execution_count": 2,
   "metadata": {},
   "outputs": [
    {
     "name": "stdout",
     "output_type": "stream",
     "text": [
      "coefficient est 7/7 = 1.0\n",
      "coefficient est 1/3 = 0.3333333333333333\n"
     ]
    }
   ],
   "source": [
    "file1=open(\"fich1.txt\",\"r\")\n",
    "read1=file1.read()\n",
    "file1.close()\n",
    "\n",
    "file2=open(\"fich2.txt\",\"r\")\n",
    "read2=file2.read()\n",
    "file2.close()\n",
    "\n",
    "A,B = set(read1.split()) , set(read2.split())\n",
    "C=set(A&B)\n",
    "Ncommun= len(C)\n",
    "Ntotal=len(set(A|B))\n",
    "Coef = Ncommun/Ntotal\n",
    "print(\"coefficient est {}/{} = {}\". format(Ncommun,Ntotal,Coef))\n",
    "\n",
    "ph1=\"Bonjour Alami\"\n",
    "ph2=\"Bonsoir Alami\"\n",
    "\n",
    "A,B = set(ph1.split()) , set(ph2.split())\n",
    "\n",
    "C=set(A&B)\n",
    "Ncommun= len(C)\n",
    "Ntotal=len(set(A|B))\n",
    "Coef = Ncommun/Ntotal\n",
    "print(\"coefficient est {}/{} = {}\". format(Ncommun,Ntotal,Coef))"
   ]
  }
 ],
 "metadata": {
  "interpreter": {
   "hash": "906e710bec4c4b6c46610d8221b76b8985d27245d57f6f2979c9031645cb3b4b"
  },
  "kernelspec": {
   "display_name": "Python 3.9.7 64-bit ('base': conda)",
   "language": "python",
   "name": "python3"
  },
  "language_info": {
   "codemirror_mode": {
    "name": "ipython",
    "version": 3
   },
   "file_extension": ".py",
   "mimetype": "text/x-python",
   "name": "python",
   "nbconvert_exporter": "python",
   "pygments_lexer": "ipython3",
   "version": "3.9.7"
  },
  "orig_nbformat": 4
 },
 "nbformat": 4,
 "nbformat_minor": 2
}
