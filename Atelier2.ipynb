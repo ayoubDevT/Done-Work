{
 "cells": [
  {
   "cell_type": "raw",
   "id": "91a73505-fb2f-4010-b9be-bd342763902e",
   "metadata": {},
   "source": [
    "Ex01"
   ]
  },
  {
   "cell_type": "code",
   "execution_count": 5,
   "id": "a7a5ea06-96a8-46b3-812f-feb4002f9216",
   "metadata": {},
   "outputs": [
    {
     "name": "stdout",
     "output_type": "stream",
     "text": [
      "Donnez un entier:5\n",
      "La racine carrée de  5.0  est : 2.23606797749979\n"
     ]
    }
   ],
   "source": [
    "import math\n",
    "a = float(input(\"Donnez un entier:\"))\n",
    "if a>=0:\n",
    "    racine = math.sqrt(a)\n",
    "    print(\"La racine carrée de \",a,' est :',racine)\n",
    "else:\n",
    "    print(\"Le nombre \",a,\" est négatif\")"
   ]
  },
  {
   "cell_type": "raw",
   "id": "ef23e403-1605-48cc-a31b-b88cdde74eca",
   "metadata": {},
   "source": [
    "Ex02"
   ]
  },
  {
   "cell_type": "code",
   "execution_count": null,
   "id": "3f91ecf8-8bf7-4d1b-aaac-a818b51f336b",
   "metadata": {},
   "outputs": [],
   "source": [
    "##Partie1\n",
    "c1 = input(\"ecrire la premiere chaine:\")\n",
    "c2 = input(\"ecrire la deuxieme chaine:\")\n",
    "\n",
    "if c1>c2:\n",
    "    print(c2,c1)\n",
    "elif c1==c2:\n",
    "    print(\"vous avez ecrit la meme chaine\")\n",
    "else:\n",
    "    print(c1,c2)\n"
   ]
  },
  {
   "cell_type": "code",
   "execution_count": 12,
   "id": "23bc1faf",
   "metadata": {},
   "outputs": [
    {
     "name": "stdout",
     "output_type": "stream",
     "text": [
      "ecrire la premiere chaine:abdc\n",
      "ecrire la deuxieme chaine:abcd\n",
      "abcd abdc\n"
     ]
    }
   ],
   "source": [
    "##Partie2\n",
    "c1 = input(\"ecrire la premiere chaine:\")\n",
    "c2 = input(\"ecrire la deuxieme chaine:\")\n",
    "\n",
    "ordre = c2+\" \"+c1 if c1>c2 else \"vous avez ecrire la meme chaine\" if c1==c2 else c1+\" \"+c2\n",
    "print(ordre)"
   ]
  },
  {
   "cell_type": "raw",
   "id": "f9f2d822",
   "metadata": {},
   "source": [
    "Ex03"
   ]
  },
  {
   "cell_type": "code",
   "execution_count": 7,
   "id": "6c330e2b",
   "metadata": {},
   "outputs": [
    {
     "name": "stdout",
     "output_type": "stream",
     "text": [
      "Saisir a:2\n",
      "Saisir b:5\n",
      "Saisir c:1\n",
      "L'equation a deux solution, x1= -0.21922359359558485  et x2= -2.2807764064044154\n"
     ]
    }
   ],
   "source": [
    "import math\n",
    "a = float(input(\"Saisir a:\"))\n",
    "\n",
    "while a == 0:\n",
    "    a = float(input(\"Saisir a:\"))\n",
    "    \n",
    "b = float(input(\"Saisir b:\"))\n",
    "c = float(input(\"Saisir c:\"))\n",
    "D = b**2 - 4*a*c\n",
    "\n",
    "if D<0:\n",
    "    print(\"Pas de solution\")\n",
    "elif D==0:\n",
    "    x = -b/(2*a)\n",
    "    print(\"L'equation a une seule solution, x=\",x)\n",
    "else:\n",
    "    x1 = (-b +math.sqrt(D))/(2*a)\n",
    "    x2 = (-b -math.sqrt(D))/(2*a)\n",
    "    print(\"L'equation a deux solution, x1=\",x1,\" et x2=\",x2)"
   ]
  },
  {
   "cell_type": "raw",
   "id": "b3d6197f-b4b3-4c0e-ab73-8c0164c75d11",
   "metadata": {},
   "source": [
    "Ex04"
   ]
  },
  {
   "cell_type": "code",
   "execution_count": 9,
   "id": "b347c801-a6ea-4dc9-b6bd-34943e83f38b",
   "metadata": {},
   "outputs": [
    {
     "name": "stdin",
     "output_type": "stream",
     "text": [
      "donner la pression de l'enceinte : 2.5\n",
      "donner le volume de l'enceinte : 3\n"
     ]
    },
    {
     "name": "stdout",
     "output_type": "stream",
     "text": [
      "demander d’augmenter la pression de l’enceinte\n"
     ]
    }
   ],
   "source": [
    "pSeuil = 2.3\n",
    "vSeuil = 7.41\n",
    "pEnc = float(input(\"donner la pression de l'enceinte :\"))\n",
    "vEnc = float(input(\"donner le volume de l'enceinte :\"))\n",
    "\n",
    "if pEnc>pSeuil and vEnc>vSeuil:\n",
    "    print(\"arrêt immédiat\")\n",
    "elif pEnc>pSeuil:\n",
    "    print(\"demander d’augmenter la pression de l’enceinte\")\n",
    "elif vEnc>vSeuil:\n",
    "    print(\"demander d’augmenter le volume de l’enceinte\")\n",
    "else:\n",
    "    print(\"tout va bien\")"
   ]
  }
 ],
 "metadata": {
  "kernelspec": {
   "display_name": "Python 3 (ipykernel)",
   "language": "python",
   "name": "python3"
  },
  "language_info": {
   "codemirror_mode": {
    "name": "ipython",
    "version": 3
   },
   "file_extension": ".py",
   "mimetype": "text/x-python",
   "name": "python",
   "nbconvert_exporter": "python",
   "pygments_lexer": "ipython3",
   "version": "3.9.7"
  }
 },
 "nbformat": 4,
 "nbformat_minor": 5
}
